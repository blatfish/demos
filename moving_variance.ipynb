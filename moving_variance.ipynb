{
 "cells": [
  {
   "cell_type": "code",
   "execution_count": 1,
   "id": "aae7b86b",
   "metadata": {},
   "outputs": [],
   "source": [
    "## housekeeping\n",
    "import numpy as np\n",
    "import matplotlib.pyplot as plt"
   ]
  },
  {
   "cell_type": "code",
   "execution_count": 2,
   "id": "b2bfa485",
   "metadata": {},
   "outputs": [],
   "source": [
    "## helper function returns a moving average for vector, window, stride\n",
    "def MA(x, window, stride=1):\n",
    "    n = len(x) # length of input \n",
    "    m = (n - window) // stride + 1 # length of output \n",
    "    MA = np.zeros(m) # initialize output \n",
    "    for i in range(m): # for each output element\n",
    "            sum = 0 # initialize element sum\n",
    "            for j in range(window): # for each input element in window\n",
    "                sum += x[i * stride + j] # sum window\n",
    "            MA[i] = sum / window # take average\n",
    "    return MA"
   ]
  },
  {
   "cell_type": "code",
   "execution_count": null,
   "id": "30321245",
   "metadata": {},
   "outputs": [],
   "source": [
    "## function returns a moving variance of length n-k+1\n",
    "def MV(x, window, stride=1):\n",
    "    n = len(x) # length of input \n",
    "    m = (n - window) // stride + 1 # length of output \n",
    "    sigma2_hat = np.zeros(m) # initialize output \n",
    "    mu_hat = MA(x, window, stride) # get moving average as estimator of mean\n",
    "    for i in range(m): # for each output element\n",
    "        sum = 0 # initialize element sum\n",
    "        for j in range(window): # for each input element in window\n",
    "            sum += (x[i * stride + j] - mu_hat[i])**2 # sum squared error\n",
    "        sigma2_hat[i] = sum / window # take variance\n",
    "    return sigma2_hat"
   ]
  },
  {
   "cell_type": "code",
   "execution_count": 12,
   "id": "9a5ba7fc",
   "metadata": {},
   "outputs": [
    {
     "data": {
      "image/png": "[encoded data removed]",
      "text/plain": [
       "<Figure size 432x288 with 1 Axes>"
      ]
     },
     "metadata": {
      "needs_background": "light"
     },
     "output_type": "display_data"
    }
   ],
   "source": [
    "## test output\n",
    "x = np.array([1, 2, 3, 4, 5, 6, 7, 8, 21, 21, 21, 21, 21]) # input\n",
    "n = len(x) # length of input\n",
    "window = 3 # window size\n",
    "stride = 2 # stride length\n",
    "m = (n - window) // stride + 1 # length of moving average\n",
    "y = MA(x, window, stride) # moving average\n",
    "plt.scatter(np.arange(n), x, marker=\".\", color=\"blue\") # plot data  \n",
    "plt.plot(np.linspace(0, n-1, m), y, color=\"red\") # plot moving average\n",
    "plt.legend([\"data\", \"moving average\"])\n",
    "plt.show()"
   ]
  }
 ],
 "metadata": {
  "kernelspec": {
   "display_name": "Python 3 (ipykernel)",
   "language": "python",
   "name": "python3"
  },
  "language_info": {
   "codemirror_mode": {
    "name": "ipython",
    "version": 3
   },
   "file_extension": ".py",
   "mimetype": "text/x-python",
   "name": "python",
   "nbconvert_exporter": "python",
   "pygments_lexer": "ipython3",
   "version": "3.8.8"
  }
 },
 "nbformat": 4,
 "nbformat_minor": 5
}
