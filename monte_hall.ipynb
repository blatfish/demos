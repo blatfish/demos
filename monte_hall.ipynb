{
 "cells": [
  {
   "cell_type": "code",
   "execution_count": 1,
   "id": "72adb69c",
   "metadata": {},
   "outputs": [],
   "source": [
    "## housekeeping\n",
    "import numpy as np"
   ]
  },
  {
   "cell_type": "code",
   "execution_count": 3,
   "id": "fdbad847",
   "metadata": {},
   "outputs": [],
   "source": [
    "## define outcomes\n",
    "n = 100 # number of trials\n",
    "index = np.arange(n) # indices vector\n",
    "guesses = np.random.randint(1, 4, n) # random guesses - 1: car, 2: goat, 3: goat\n",
    "\n",
    "## compute MLE estimator of baseline probability of winning\n",
    "p0 = len(guesses[guesses == 1]) / n"
   ]
  },
  {
   "cell_type": "code",
   "execution_count": 4,
   "id": "d8718ac4",
   "metadata": {},
   "outputs": [
    {
     "name": "stdout",
     "output_type": "stream",
     "text": [
      "baseline probability estimate: 0.37\n",
      "changed guess probability estimate: 0.63\n"
     ]
    }
   ],
   "source": [
    "## divide the 3 groups\n",
    "car = index[guesses == 1]\n",
    "goat1 = index[guesses == 2]\n",
    "goat2 = index[guesses == 3]\n",
    "\n",
    "## winning guesses change to goat 1, as if goat 2 were shown\n",
    "## whether goat 1 or goat 2 is shown, the outcome will be the same for winning guesses that are changed\n",
    "guesses[car] = 2\n",
    "\n",
    "## goat guesses change to car, as if the other goat were shown\n",
    "## the changed guess will always be to the car, if the other goat is shown\n",
    "guesses[goat1] = 1\n",
    "guesses[goat2] = 1\n",
    "\n",
    "## compute MLE estimator of probability of winning, given changed guess\n",
    "p1 = len(guesses[guesses == 1]) / n\n",
    "\n",
    "print(\"baseline probability estimate: \" + str(p0))\n",
    "print(\"changed guess probability estimate: \" + str(p1))"
   ]
  }
 ],
 "metadata": {
  "kernelspec": {
   "display_name": "Python 3 (ipykernel)",
   "language": "python",
   "name": "python3"
  },
  "language_info": {
   "codemirror_mode": {
    "name": "ipython",
    "version": 3
   },
   "file_extension": ".py",
   "mimetype": "text/x-python",
   "name": "python",
   "nbconvert_exporter": "python",
   "pygments_lexer": "ipython3",
   "version": "3.8.8"
  }
 },
 "nbformat": 4,
 "nbformat_minor": 5
}
