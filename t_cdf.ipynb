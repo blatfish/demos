{
 "cells": [
  {
   "cell_type": "code",
   "execution_count": 1,
   "id": "7c6b445d",
   "metadata": {},
   "outputs": [],
   "source": [
    "## housekeeping\n",
    "import numpy as np"
   ]
  },
  {
   "cell_type": "markdown",
   "id": "67025675",
   "metadata": {},
   "source": [
    "$\\Gamma(\\alpha) = \\int_{0}^{\\infty}y^{\\alpha - 1}e^{-y}dy$"
   ]
  },
  {
   "cell_type": "code",
   "execution_count": 2,
   "id": "00bfeaa4",
   "metadata": {},
   "outputs": [],
   "source": [
    "## approximate the gamma function numerically\n",
    "## define function\n",
    "def gamma(alpha, n=10000000, lo=0.001, hi = 10000):\n",
    "    y = np.linspace(lo, hi, n) # independent variable\n",
    "    delta = y[1] - y[0] # discretization width\n",
    "    f = y**(alpha-1) * np.exp(-y) # integrand\n",
    "    gamma = np.sum(delta * f) # integrate\n",
    "    return gamma"
   ]
  },
  {
   "cell_type": "markdown",
   "id": "53dde9f9",
   "metadata": {},
   "source": [
    "$f(x) = \\frac{\\Gamma(\\frac{\\nu + 1}{2})}{\\sqrt{\\nu \\pi}\\Gamma(\\frac{\\nu}{2})}(1 + \\frac{x^2}{\\nu})^{(\\nu + 1) / 2}$"
   ]
  },
  {
   "cell_type": "code",
   "execution_count": 3,
   "id": "101b5e8a",
   "metadata": {},
   "outputs": [],
   "source": [
    "## generate a t-distribution pdf of df degrees of freedom\n",
    "def t(df, x): # args are degrees of freedom, x, # discrets, int bounds\n",
    "    num = gamma((df + 1) / 2) # numerator\n",
    "    den = gamma(df / 2) * (df * np.pi)**.5 # denominator\n",
    "    f = (1 + x**2 / df)**(-(df + 1) / 2) * num / den # t-distribution pdf\n",
    "    return f"
   ]
  },
  {
   "cell_type": "code",
   "execution_count": 9,
   "id": "f8c75234",
   "metadata": {},
   "outputs": [],
   "source": [
    "## approximate the t CDF numerically\n",
    "def tcdf(df, T, n=10000000, lo=-10000, hi=10000):\n",
    "    x = np.linspace(lo, hi, n) # independent variable\n",
    "    delta = x[1] - x[0] # discretization width\n",
    "    F = np.cumsum(delta * t(df, x)) # integrate\n",
    "    d = np.abs(x - T) # T argument distance \n",
    "    xstar = x[d == np.min(d)]# get x closest to T\n",
    "    return F[x == xstar][0]"
   ]
  },
  {
   "cell_type": "code",
   "execution_count": 16,
   "id": "ce27692f",
   "metadata": {},
   "outputs": [
    {
     "name": "stdout",
     "output_type": "stream",
     "text": [
      "P(t <= 12.924) at 3 degrees of freedom = 0.9995\n"
     ]
    }
   ],
   "source": [
    "## print results\n",
    "df, tval = 3, 12.924\n",
    "print(\"P(t <= \" + str(tval) + \") at \" + str(df) + \" degrees of freedom = \" + \n",
    "      str(np.round(tcdf(df, tval), decimals=4)))"
   ]
  }
 ],
 "metadata": {
  "kernelspec": {
   "display_name": "Python 3 (ipykernel)",
   "language": "python",
   "name": "python3"
  },
  "language_info": {
   "codemirror_mode": {
    "name": "ipython",
    "version": 3
   },
   "file_extension": ".py",
   "mimetype": "text/x-python",
   "name": "python",
   "nbconvert_exporter": "python",
   "pygments_lexer": "ipython3",
   "version": "3.8.8"
  }
 },
 "nbformat": 4,
 "nbformat_minor": 5
}
