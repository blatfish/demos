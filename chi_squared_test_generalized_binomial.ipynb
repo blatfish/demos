{
 "cells": [
  {
   "cell_type": "code",
   "execution_count": 1,
   "id": "39302cdf",
   "metadata": {},
   "outputs": [],
   "source": [
    "## housekeeping\n",
    "import numpy as np\n",
    "import matplotlib.pyplot as plt"
   ]
  },
  {
   "cell_type": "markdown",
   "id": "e20b8b73",
   "metadata": {},
   "source": [
    "#### Use the chi-squared test to evaluate goodness of fit of a generalized binomial distribution  \n",
    "This answers the question:  \"Does my data come from any distribution within the family of binomial distributions?\"  "
   ]
  },
  {
   "cell_type": "code",
   "execution_count": 2,
   "id": "7b6392ae",
   "metadata": {},
   "outputs": [],
   "source": [
    "## define problem\n",
    "i = np.arange(4) # vector of modality indices\n",
    "K = i[len(i)-1] # max index\n",
    "N = np.array([339, 455, 180, 26]) # number of observations of each modality\n",
    "n = np.sum(N) # total number of observations\n",
    "tMLE =  1 / (n * K) * np.sum(np.multiply(i, N)) # parameter MLE for each modality\n",
    "that = N / n\n",
    "choices = np.array([1, 3, 3, 1]) # K choose i\n",
    "ft = np.zeros(4) # init pmf\n",
    "for j in range(4): # calc PMF\n",
    "    ft[j] = choices[j] * tMLE**j * (1-tMLE)**(K-j)\n",
    "T = n * np.sum(np.multiply((that - ft)**2, ft**-1)) # calc test statistic"
   ]
  },
  {
   "cell_type": "code",
   "execution_count": 3,
   "id": "62e74886",
   "metadata": {},
   "outputs": [],
   "source": [
    "## helper functions\n",
    "\n",
    "## define gamma function\n",
    "def gamma(z, lo=0.001, hi=10000, step=0.001):\n",
    "    t = np.arange(lo, hi, step) # domain of integration\n",
    "    return np.sum(step * np.multiply(t**(z-1), np.exp(-t)))\n",
    "\n",
    "## define chi-squared pdf\n",
    "def X2f(x, k):\n",
    "    if np.min(x) <= 0: # return 0 if x <= 0\n",
    "        return 0\n",
    "    else:\n",
    "        num = np.multiply(x**(k/2 - 1), np.exp(-x/2)) # numerator\n",
    "        den = 2**(k/2) * gamma(k/2) # denominator\n",
    "        return num / den\n",
    "    \n",
    "## approximate chi-squared cdf numerically\n",
    "def X2F(k, T, lo=0.001, hi=10000, step=0.001):\n",
    "    x = np.arange(lo, hi, step) # independent variable\n",
    "    F = np.cumsum(step * X2f(x, k)) # integrate\n",
    "    d = np.abs(x - T) # T argument distance \n",
    "    xstar = x[d == np.min(d)]# get x closest to T\n",
    "    return F[x == xstar][0]"
   ]
  },
  {
   "cell_type": "code",
   "execution_count": 4,
   "id": "3b2702bc",
   "metadata": {},
   "outputs": [
    {
     "name": "stdout",
     "output_type": "stream",
     "text": [
      "P(T > 0.8829), 2 degrees of freedom = 0.64298\n"
     ]
    }
   ],
   "source": [
    "## test output for tail probability\n",
    "k = K-1 # degrees of freedom\n",
    "p = X2F(k, T) # complement probability\n",
    "print(\"P(T > \" + str(np.round(T, decimals=4)) + \"), \" + str(k) + \" degrees of freedom = \" + str(np.round(1 - p, decimals=5)))"
   ]
  }
 ],
 "metadata": {
  "kernelspec": {
   "display_name": "Python 3 (ipykernel)",
   "language": "python",
   "name": "python3"
  },
  "language_info": {
   "codemirror_mode": {
    "name": "ipython",
    "version": 3
   },
   "file_extension": ".py",
   "mimetype": "text/x-python",
   "name": "python",
   "nbconvert_exporter": "python",
   "pygments_lexer": "ipython3",
   "version": "3.9.12"
  }
 },
 "nbformat": 4,
 "nbformat_minor": 5
}
