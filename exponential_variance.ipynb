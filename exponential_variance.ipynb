{
 "cells": [
  {
   "cell_type": "code",
   "execution_count": 1,
   "id": "d6965747",
   "metadata": {},
   "outputs": [],
   "source": [
    "## housekeeping\n",
    "import numpy as np"
   ]
  },
  {
   "cell_type": "markdown",
   "id": "b2694d9d",
   "metadata": {},
   "source": [
    "#### variance for exponential distribution:  \n",
    "$\\mathbb{V}[x]\\ =\\ \\int{(x-\\mu)^{2}f(x)}\\ dx\\ =\\ \\frac{1}{\\lambda^{2}}$  "
   ]
  },
  {
   "cell_type": "code",
   "execution_count": 5,
   "id": "e411be83",
   "metadata": {},
   "outputs": [
    {
     "name": "stdout",
     "output_type": "stream",
     "text": [
      "closed-form variance = 0.25, numerical variance = 0.25\n"
     ]
    }
   ],
   "source": [
    "## compute variance numerically for an exponential distribution with parameter lambda\n",
    "l = 2 # parameter lambda\n",
    "n = 1000000 # number of discretizations\n",
    "lo, hi = 0, 1000 # bounds\n",
    "x = np.linspace(lo, hi, n) # independent variable discretization\n",
    "f = l * np.exp(-l * x) # pdf\n",
    "d = x[1] - x[0] # discretization width\n",
    "mu = np.sum(np.multiply(x, f) * d) # expected value\n",
    "vse = (x - mu)**2 # squared error\n",
    "var = np.sum(np.multiply(vse, f) * d) # variance\n",
    "\n",
    "## compare to closed-form variance\n",
    "print(\"closed-form variance = \" + str(1 / l**2) + \", numerical variance = \" + str(np.round(var, decimals=2)))"
   ]
  }
 ],
 "metadata": {
  "kernelspec": {
   "display_name": "Python 3 (ipykernel)",
   "language": "python",
   "name": "python3"
  },
  "language_info": {
   "codemirror_mode": {
    "name": "ipython",
    "version": 3
   },
   "file_extension": ".py",
   "mimetype": "text/x-python",
   "name": "python",
   "nbconvert_exporter": "python",
   "pygments_lexer": "ipython3",
   "version": "3.8.8"
  }
 },
 "nbformat": 4,
 "nbformat_minor": 5
}
