{
 "cells": [
  {
   "cell_type": "code",
   "execution_count": 1,
   "id": "eec97f92",
   "metadata": {},
   "outputs": [],
   "source": [
    "## housekeeping\n",
    "import numpy as np\n",
    "import matplotlib.pyplot as plt"
   ]
  },
  {
   "cell_type": "code",
   "execution_count": 2,
   "id": "9521e625",
   "metadata": {},
   "outputs": [
    {
     "name": "stdout",
     "output_type": "stream",
     "text": [
      "gamma(alpha=1) = 0.9995\n"
     ]
    }
   ],
   "source": [
    "## approximate the gamma function numerically\n",
    "## define function\n",
    "def gamma(alpha, y):\n",
    "    delta = y[1] - y[0] # discretization width\n",
    "    f = y**(alpha-1) * np.exp(-y) # integrand\n",
    "    gamma = np.sum(delta * f) # integrate\n",
    "    return gamma\n",
    "\n",
    "## set parameters\n",
    "alpha = 1 # parameter alpha\n",
    "n = 10000000 # number of discretizations\n",
    "lo, hi = 0.001, 10000 # integration bounds\n",
    "y = np.linspace(lo, hi, n) # independent variable\n",
    "\n",
    "## calculate\n",
    "gam = gamma(alpha, y)\n",
    "\n",
    "## print results\n",
    "print(\"gamma(alpha=\" + str(alpha) + \") = \" + str(np.round(gam, decimals=4)))"
   ]
  }
 ],
 "metadata": {
  "kernelspec": {
   "display_name": "Python 3 (ipykernel)",
   "language": "python",
   "name": "python3"
  },
  "language_info": {
   "codemirror_mode": {
    "name": "ipython",
    "version": 3
   },
   "file_extension": ".py",
   "mimetype": "text/x-python",
   "name": "python",
   "nbconvert_exporter": "python",
   "pygments_lexer": "ipython3",
   "version": "3.8.8"
  }
 },
 "nbformat": 4,
 "nbformat_minor": 5
}
