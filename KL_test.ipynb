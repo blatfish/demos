{
 "cells": [
  {
   "cell_type": "code",
   "execution_count": 1,
   "id": "b4dbdc63",
   "metadata": {},
   "outputs": [],
   "source": [
    "## housekeeping\n",
    "import numpy as np"
   ]
  },
  {
   "cell_type": "markdown",
   "id": "d8a2461e",
   "metadata": {},
   "source": [
    "#### Komolgorov-Lilliefors test\n",
    "answers the question: \"Is my data gaussian, for any $\\mu \\in \\mathbb {R}$ and $\\sigma ^2 > 0$?\"  \n",
    "$\\widetilde{T}_ n = \\sqrt{n}\\sup _{t \\in \\mathbb {R}} |F_ n(t) - \\Phi _{\\widehat{\\mu }, \\widehat{\\sigma }^2}|$  \n",
    "$\\tilde{\\psi }_ n = \\mathbf{1}(\\widetilde{T}_ n > q_{\\nu }')$  \n",
    "$\\tilde{H}_0: \\mathbf{P} \\in \\{  \\mathcal{N}(\\mu , \\sigma ^2) \\} _{\\mu \\in \\mathbb {R}, \\sigma ^2 > 0}$  \n",
    "$\\tilde{H}_1: \\mathbf{P} \\notin \\{  \\mathcal{N}(\\mu , \\sigma ^2) \\} _{\\mu \\in \\mathbb {R}, \\sigma ^2 > 0}$"
   ]
  },
  {
   "cell_type": "code",
   "execution_count": 2,
   "id": "a18d0dbc",
   "metadata": {},
   "outputs": [],
   "source": [
    "## perform the Komolgorov-Lilliefors test for gaussianity on the following dataset:\n",
    "t = np.array([.01, .1, .2, .28, .8]) # data\n",
    "\n",
    "# compute the sample mean and sample variance\n",
    "n = len(t) # number of observations\n",
    "Xn = np.mean(t) # sample mean\n",
    "Sn = 1 / (n-1) * np.sum((t - Xn)**2) # sample variance\n",
    "\n",
    "# compute the empirical CDF\n",
    "Fn = np.cumsum(np.ones(n) / 5) # empirical CDF"
   ]
  },
  {
   "cell_type": "code",
   "execution_count": 3,
   "id": "30ff6293",
   "metadata": {},
   "outputs": [],
   "source": [
    "## helper function to generate a cumulative probability for H0 gaussian\n",
    "def gcdf(X, mu, sigma2, lo=-1000, hi=1000, step=0.001):\n",
    "    x = np.arange(lo, hi, step) # discretization\n",
    "    f = 1 / (2 * np.pi * sigma2)**.5 * np.exp(-(x - mu)**2 / (2 * sigma2)) # pdf\n",
    "    F = np.cumsum(step * f) # integrate\n",
    "    d = np.abs(x - X) # distance to nearest point in discretization\n",
    "    xstar = x[d == np.min(d)] # get closest x\n",
    "    return F[x == xstar][0] # return F of closest x"
   ]
  },
  {
   "cell_type": "code",
   "execution_count": 14,
   "id": "37932a08",
   "metadata": {},
   "outputs": [],
   "source": [
    "## compute test statistic\n",
    "sup = 0 # initialize supremum\n",
    "for P in Fn: # for each discrete probability step in Fn\n",
    "    arg = np.abs(P - gcdf(t[Fn == P][0], Xn, Sn)) # take distance between two CDFs\n",
    "    if arg > sup: # keep the largest\n",
    "        sup = arg\n",
    "Tn = sup # test statistic"
   ]
  },
  {
   "cell_type": "code",
   "execution_count": 45,
   "id": "33e08000",
   "metadata": {},
   "outputs": [
    {
     "name": "stdout",
     "output_type": "stream",
     "text": [
      "For Tn = 0.297, and n = 5 observations, Tn <= 0.315.  We conclude there is insufficient evidence to reject the null at level 0.1.\n"
     ]
    }
   ],
   "source": [
    "## test\n",
    "table_value = .315 # from KL table\n",
    "alpha = 0.1 # level\n",
    "truth = [\"<=\", \">\"] # Tn > table_val to reject\n",
    "outcome = [\"insufficient\", \"sufficient\"]\n",
    "print(\"For Tn = \" + str(np.round(Tn, decimals=3)) + \", and n = \" + str(n) + \" observations, Tn \"\n",
    "     + str(truth[int(Tn > table_value)]) + \" \" + str(table_value) + \".  We conclude there is \" + \n",
    "      str(outcome[int(Tn > table_value)]) + \" evidence to reject the null at level \" + str(alpha) + \".\")"
   ]
  }
 ],
 "metadata": {
  "kernelspec": {
   "display_name": "Python 3 (ipykernel)",
   "language": "python",
   "name": "python3"
  },
  "language_info": {
   "codemirror_mode": {
    "name": "ipython",
    "version": 3
   },
   "file_extension": ".py",
   "mimetype": "text/x-python",
   "name": "python",
   "nbconvert_exporter": "python",
   "pygments_lexer": "ipython3",
   "version": "3.8.8"
  }
 },
 "nbformat": 4,
 "nbformat_minor": 5
}
