{
 "cells": [
  {
   "cell_type": "code",
   "execution_count": 1,
   "id": "21659bd5",
   "metadata": {},
   "outputs": [],
   "source": [
    "## housekeeping\n",
    "import pandas as pd"
   ]
  },
  {
   "cell_type": "code",
   "execution_count": 2,
   "id": "e02b8a3b",
   "metadata": {},
   "outputs": [
    {
     "data": {
      "text/html": [
       "<div>\n",
       "<style scoped>\n",
       "    .dataframe tbody tr th:only-of-type {\n",
       "        vertical-align: middle;\n",
       "    }\n",
       "\n",
       "    .dataframe tbody tr th {\n",
       "        vertical-align: top;\n",
       "    }\n",
       "\n",
       "    .dataframe thead th {\n",
       "        text-align: right;\n",
       "    }\n",
       "</style>\n",
       "<table border=\"1\" class=\"dataframe\">\n",
       "  <thead>\n",
       "    <tr style=\"text-align: right;\">\n",
       "      <th></th>\n",
       "      <th>category</th>\n",
       "      <th>subcategory</th>\n",
       "      <th>name</th>\n",
       "    </tr>\n",
       "  </thead>\n",
       "  <tbody>\n",
       "    <tr>\n",
       "      <th>0</th>\n",
       "      <td>cat</td>\n",
       "      <td>burmese</td>\n",
       "      <td>charles</td>\n",
       "    </tr>\n",
       "    <tr>\n",
       "      <th>1</th>\n",
       "      <td>dinosaur</td>\n",
       "      <td>stegosaurus</td>\n",
       "      <td>sara</td>\n",
       "    </tr>\n",
       "    <tr>\n",
       "      <th>2</th>\n",
       "      <td>bird</td>\n",
       "      <td>egret</td>\n",
       "      <td>gerald</td>\n",
       "    </tr>\n",
       "    <tr>\n",
       "      <th>3</th>\n",
       "      <td>particle</td>\n",
       "      <td>photon</td>\n",
       "      <td>isla</td>\n",
       "    </tr>\n",
       "  </tbody>\n",
       "</table>\n",
       "</div>"
      ],
      "text/plain": [
       "   category  subcategory     name\n",
       "0       cat      burmese  charles\n",
       "1  dinosaur  stegosaurus     sara\n",
       "2      bird        egret   gerald\n",
       "3  particle       photon     isla"
      ]
     },
     "execution_count": 2,
     "metadata": {},
     "output_type": "execute_result"
    }
   ],
   "source": [
    "## first things\n",
    "input_file, output_file = 'input_file.csv', 'output_file.csv' # define filenames\n",
    "df = pd.read_csv(input_file) # read csv in\n",
    "df # show"
   ]
  },
  {
   "cell_type": "code",
   "execution_count": 3,
   "id": "e4c47165",
   "metadata": {},
   "outputs": [
    {
     "data": {
      "text/html": [
       "<div>\n",
       "<style scoped>\n",
       "    .dataframe tbody tr th:only-of-type {\n",
       "        vertical-align: middle;\n",
       "    }\n",
       "\n",
       "    .dataframe tbody tr th {\n",
       "        vertical-align: top;\n",
       "    }\n",
       "\n",
       "    .dataframe thead th {\n",
       "        text-align: right;\n",
       "    }\n",
       "</style>\n",
       "<table border=\"1\" class=\"dataframe\">\n",
       "  <thead>\n",
       "    <tr style=\"text-align: right;\">\n",
       "      <th></th>\n",
       "      <th>category</th>\n",
       "      <th>subcategory</th>\n",
       "      <th>name</th>\n",
       "      <th>weight</th>\n",
       "    </tr>\n",
       "  </thead>\n",
       "  <tbody>\n",
       "    <tr>\n",
       "      <th>0</th>\n",
       "      <td>cat</td>\n",
       "      <td>burmese</td>\n",
       "      <td>charles</td>\n",
       "      <td>9.0</td>\n",
       "    </tr>\n",
       "    <tr>\n",
       "      <th>1</th>\n",
       "      <td>dinosaur</td>\n",
       "      <td>stegosaurus</td>\n",
       "      <td>sara</td>\n",
       "      <td>11000.0</td>\n",
       "    </tr>\n",
       "    <tr>\n",
       "      <th>2</th>\n",
       "      <td>bird</td>\n",
       "      <td>egret</td>\n",
       "      <td>gerald</td>\n",
       "      <td>4.0</td>\n",
       "    </tr>\n",
       "    <tr>\n",
       "      <th>3</th>\n",
       "      <td>particle</td>\n",
       "      <td>photon</td>\n",
       "      <td>isla</td>\n",
       "      <td>NaN</td>\n",
       "    </tr>\n",
       "  </tbody>\n",
       "</table>\n",
       "</div>"
      ],
      "text/plain": [
       "   category  subcategory     name   weight\n",
       "0       cat      burmese  charles      9.0\n",
       "1  dinosaur  stegosaurus     sara  11000.0\n",
       "2      bird        egret   gerald      4.0\n",
       "3  particle       photon     isla      NaN"
      ]
     },
     "execution_count": 3,
     "metadata": {},
     "output_type": "execute_result"
    }
   ],
   "source": [
    "## TODO  - write logic to output your column to add (a list of the same length as the data) ##\n",
    "## placeholder ...\n",
    "\n",
    "weight = [] # initialize column to add\n",
    "\n",
    "for item in df.iterrows(): # iterate thru each line in csv\n",
    "    condition = item[1]['subcategory']\n",
    "    if condition == 'burmese':\n",
    "        weight.append(9)\n",
    "    elif condition == 'stegosaurus':\n",
    "        weight.append(11000)\n",
    "    elif condition == 'egret':\n",
    "        weight.append(4)\n",
    "    elif condition == 'photon':\n",
    "        weight.append(None)\n",
    "        \n",
    "df['weight'] = weight ## add column (list) to the data\n",
    "df # show"
   ]
  },
  {
   "cell_type": "code",
   "execution_count": 4,
   "id": "80219366",
   "metadata": {},
   "outputs": [],
   "source": [
    "## write to new csv with column included\n",
    "df.to_csv(output_file, index=False)"
   ]
  }
 ],
 "metadata": {
  "kernelspec": {
   "display_name": "Python 3 (ipykernel)",
   "language": "python",
   "name": "python3"
  },
  "language_info": {
   "codemirror_mode": {
    "name": "ipython",
    "version": 3
   },
   "file_extension": ".py",
   "mimetype": "text/x-python",
   "name": "python",
   "nbconvert_exporter": "python",
   "pygments_lexer": "ipython3",
   "version": "3.8.8"
  }
 },
 "nbformat": 4,
 "nbformat_minor": 5
}
