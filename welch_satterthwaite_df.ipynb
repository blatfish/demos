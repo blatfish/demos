{
 "cells": [
  {
   "cell_type": "code",
   "execution_count": 1,
   "id": "aba0763d",
   "metadata": {},
   "outputs": [],
   "source": [
    "## housekeeping\n",
    "import numpy as np"
   ]
  },
  {
   "cell_type": "markdown",
   "id": "7ee3b6ab",
   "metadata": {},
   "source": [
    "#### Welch-Satterthwaite equation\n",
    "$\\nu_{\\chi'} \\approx \\frac{(\\sum_{i=1}^{n} k_i S_i^2)^2}{\\sum_{i=1}^{n} \\frac{(k_i S_i^2)^2}{\\nu_i}}$\n",
    ", $k_i = \\frac{1}{\\nu_i + 1}$\n",
    ", for $n$ sample variances $S_i^2$, each having $\\nu_i$ degrees of freedom"
   ]
  },
  {
   "cell_type": "code",
   "execution_count": 2,
   "id": "fc3dd890",
   "metadata": {},
   "outputs": [],
   "source": [
    "## define function\n",
    "def ws(Sn, nm, cons=True):\n",
    "    ## takes a vector of sample variances and a vector of sample sizes, \n",
    "    ## optional default to integer floor \n",
    "    \n",
    "    ## condition input vectors\n",
    "    Sn = np.array(Sn).astype(float)\n",
    "    nm = np.array(nm).astype(float)\n",
    "\n",
    "    ## make sure a sample variance and sample size for each sample\n",
    "    if len(Sn) != len(nm):\n",
    "        return \"enter equal length vectors\"\n",
    "    \n",
    "    ## compute WS degrees of freedom\n",
    "    else:\n",
    "        k = 1 / nm # define k\n",
    "        num = np.sum(np.multiply(k , Sn))**2 # define numerator\n",
    "        den = np.sum(np.multiply(np.multiply(k**2, Sn**2), (nm-1)**-1)) # define denominator\n",
    "        if cons == True: # conservative output\n",
    "            return np.floor(num / den)\n",
    "        else: # raw output\n",
    "            return num / den"
   ]
  },
  {
   "cell_type": "code",
   "execution_count": 10,
   "id": "810a8b33",
   "metadata": {},
   "outputs": [
    {
     "name": "stdout",
     "output_type": "stream",
     "text": [
      "for 2 distributions with sample variances of [0.1, 0.2] and sample sizes of [50, 40] the Welch-Satterthwaite degrees of freedom is 67\n"
     ]
    }
   ],
   "source": [
    "## test output\n",
    "Sn, nm = [0.1, 0.2], [50, 40]\n",
    "print(\"for \" + str(len(Sn)) + \" distributions with sample variances of \" + str(Sn) + \n",
    "      \" and sample sizes of \" + str(nm) + \" the Welch-Satterthwaite degrees of freedom is \" + \n",
    "      str(ws(Sn, nm).astype(int)))"
   ]
  }
 ],
 "metadata": {
  "kernelspec": {
   "display_name": "Python 3 (ipykernel)",
   "language": "python",
   "name": "python3"
  },
  "language_info": {
   "codemirror_mode": {
    "name": "ipython",
    "version": 3
   },
   "file_extension": ".py",
   "mimetype": "text/x-python",
   "name": "python",
   "nbconvert_exporter": "python",
   "pygments_lexer": "ipython3",
   "version": "3.8.8"
  }
 },
 "nbformat": 4,
 "nbformat_minor": 5
}
