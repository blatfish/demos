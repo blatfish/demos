{
 "cells": [
  {
   "cell_type": "code",
   "execution_count": 1,
   "id": "fec41bd9",
   "metadata": {},
   "outputs": [],
   "source": [
    "## housekeeping\n",
    "import numpy as np"
   ]
  },
  {
   "cell_type": "markdown",
   "id": "d5851ff4",
   "metadata": {},
   "source": [
    "#### Chi-squared distribution  \n",
    "$f(x;k) = \\frac{x^{\\frac{k}{2} - 1} e^{-\\frac{x}{2}}}{2^{\\frac{k}{2}} \\Gamma(\\frac{k}{2})}\n",
    "\\mathbb{1}(x > 0)$, $\\Gamma(z) = \\int_{0}^{\\infty} t^{z-1} e^{-t} dt$"
   ]
  },
  {
   "cell_type": "code",
   "execution_count": 2,
   "id": "8bbb11ee",
   "metadata": {},
   "outputs": [],
   "source": [
    "## define gamma function\n",
    "def gamma(z, lo=0.001, hi=10000, step=0.001):\n",
    "    t = np.arange(lo, hi, step) # domain of integration\n",
    "    return np.sum(step * np.multiply(t**(z-1), np.exp(-t)))"
   ]
  },
  {
   "cell_type": "code",
   "execution_count": 3,
   "id": "95ebd265",
   "metadata": {},
   "outputs": [],
   "source": [
    "## define chi-squared pdf\n",
    "def X2f(x, k):\n",
    "    if np.min(x) <= 0: # return 0 if x <= 0\n",
    "        return 0\n",
    "    else:\n",
    "        num = np.multiply(x**(k/2 - 1), np.exp(-x/2)) # numerator\n",
    "        den = 2**(k/2) * gamma(k/2) # denominator\n",
    "        return num / den"
   ]
  },
  {
   "cell_type": "code",
   "execution_count": 4,
   "id": "d3183914",
   "metadata": {},
   "outputs": [],
   "source": [
    "## approximate chi-squared cdf numerically\n",
    "def X2F(k, T, lo=0.001, hi=10000, step=0.001):\n",
    "    x = np.arange(lo, hi, step) # independent variable\n",
    "    F = np.cumsum(step * X2f(x, k)) # integrate\n",
    "    d = np.abs(x - T) # T argument distance \n",
    "    xstar = x[d == np.min(d)]# get x closest to T\n",
    "    return F[x == xstar][0]"
   ]
  },
  {
   "cell_type": "code",
   "execution_count": 5,
   "id": "5575918c",
   "metadata": {},
   "outputs": [
    {
     "name": "stdout",
     "output_type": "stream",
     "text": [
      "P(T <= 98.3) = 0.5\n"
     ]
    }
   ],
   "source": [
    "## test output\n",
    "k = 99 # degrees of freedom\n",
    "median = k * (1 - 2 / (9 * k))**3 # approximate median of the chi-squared distribution\n",
    "print(\"P(T <= \" + str(np.round(median, decimals=1)) + \") = \" + str(np.round(X2F(k, median), decimals=4)))"
   ]
  }
 ],
 "metadata": {
  "kernelspec": {
   "display_name": "Python 3 (ipykernel)",
   "language": "python",
   "name": "python3"
  },
  "language_info": {
   "codemirror_mode": {
    "name": "ipython",
    "version": 3
   },
   "file_extension": ".py",
   "mimetype": "text/x-python",
   "name": "python",
   "nbconvert_exporter": "python",
   "pygments_lexer": "ipython3",
   "version": "3.8.8"
  }
 },
 "nbformat": 4,
 "nbformat_minor": 5
}
