{
 "cells": [
  {
   "cell_type": "code",
   "execution_count": 1,
   "id": "0e8a3a8a",
   "metadata": {},
   "outputs": [],
   "source": [
    "## housekeeping\n",
    "import numpy as np\n",
    "import matplotlib.pyplot as plt"
   ]
  },
  {
   "cell_type": "code",
   "execution_count": 29,
   "id": "e5b8e537",
   "metadata": {},
   "outputs": [
    {
     "name": "stdout",
     "output_type": "stream",
     "text": [
      "percent of confidence intervals that capture the true mean: 95.0\n"
     ]
    }
   ],
   "source": [
    "## construct a 95% confidence interval for the mean of a poisson distribution\n",
    "n = 100 # sample size\n",
    "m = 100000 # number of trials\n",
    "L = 2 # parameter lambda of the poisson distribution\n",
    "q = 1.96  # two-sided quantile for alpha = 0.05\n",
    "tally = 0 # initialize count of intervals that capture the true mean\n",
    "for i in range(m): # for each repeated trial\n",
    "    X = np.random.poisson(L, n) # generate sample\n",
    "    Xn = np.mean(X) # sample mean\n",
    "    A, B = Xn - q * (Xn / n)**.5, Xn + q * (Xn / n)**.5 # confidence interval bounds\n",
    "    if L > A and L < B: # if true mean within bounds\n",
    "        tally += 1 # add this trial to sum\n",
    "        \n",
    "## print result    \n",
    "print(\"percent of confidence intervals that capture the true mean: \" + str(np.round(tally / m * 100))) "
   ]
  }
 ],
 "metadata": {
  "kernelspec": {
   "display_name": "Python 3 (ipykernel)",
   "language": "python",
   "name": "python3"
  },
  "language_info": {
   "codemirror_mode": {
    "name": "ipython",
    "version": 3
   },
   "file_extension": ".py",
   "mimetype": "text/x-python",
   "name": "python",
   "nbconvert_exporter": "python",
   "pygments_lexer": "ipython3",
   "version": "3.8.8"
  }
 },
 "nbformat": 4,
 "nbformat_minor": 5
}
