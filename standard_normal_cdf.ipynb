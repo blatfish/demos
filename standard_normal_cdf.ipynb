{
 "cells": [
  {
   "cell_type": "code",
   "execution_count": 1,
   "id": "55084a75",
   "metadata": {},
   "outputs": [],
   "source": [
    "## housekeeping\n",
    "import numpy as np"
   ]
  },
  {
   "cell_type": "code",
   "execution_count": 2,
   "id": "39c7191a",
   "metadata": {},
   "outputs": [],
   "source": [
    "## calculate the standard normal cdf numerically\n",
    "\n",
    "## define numeric error function, for positive x\n",
    "def erf(z, n=1000000):\n",
    "    t = np.linspace(0, z, n) # independent variable\n",
    "    delta = t[1] - t[0] # discretization width\n",
    "    f = np.exp(-t**2) # integrand\n",
    "    erf = 2  / np.pi**.5 * np.sum(delta * f) # integrate\n",
    "    return erf\n",
    "\n",
    "## use the error function to calculate the standard normal cdf, for positive x\n",
    "def sncdf(x):\n",
    "    if x >= 0:\n",
    "        return .5 * (erf(x / 2**.5) + 1)\n",
    "    else: \n",
    "        return \"use positive x only\""
   ]
  },
  {
   "cell_type": "code",
   "execution_count": 4,
   "id": "3a8ea1a6",
   "metadata": {},
   "outputs": [
    {
     "name": "stdout",
     "output_type": "stream",
     "text": [
      "P(Z <= 0) = 0.5\n"
     ]
    }
   ],
   "source": [
    "## find a probability\n",
    "y = 0 # standard normal random variable\n",
    "print(\"P(Z <= \" + str(y) + \") = \" + str(np.round(sncdf(y), decimals=4)))"
   ]
  }
 ],
 "metadata": {
  "kernelspec": {
   "display_name": "Python 3 (ipykernel)",
   "language": "python",
   "name": "python3"
  },
  "language_info": {
   "codemirror_mode": {
    "name": "ipython",
    "version": 3
   },
   "file_extension": ".py",
   "mimetype": "text/x-python",
   "name": "python",
   "nbconvert_exporter": "python",
   "pygments_lexer": "ipython3",
   "version": "3.8.8"
  }
 },
 "nbformat": 4,
 "nbformat_minor": 5
}
