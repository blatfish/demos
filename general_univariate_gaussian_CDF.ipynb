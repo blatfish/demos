{
 "cells": [
  {
   "cell_type": "code",
   "execution_count": 47,
   "id": "50f3af45",
   "metadata": {},
   "outputs": [],
   "source": [
    "## housekeeping\n",
    "import numpy as np"
   ]
  },
  {
   "cell_type": "code",
   "execution_count": 48,
   "id": "64d11d03",
   "metadata": {},
   "outputs": [],
   "source": [
    "## function to generate a cumulative probability for general gaussian\n",
    "def gcdf(X, mu, sigma2, lo=-1000, hi=1000, step=0.001):\n",
    "    x = np.arange(lo, hi, step) # discretization\n",
    "    f = 1 / (2 * np.pi * sigma2)**.5 * np.exp(-(x - mu)**2 / (2 * sigma2)) # pdf\n",
    "    F = np.cumsum(step * f) # integrate\n",
    "    d = np.abs(x - X) # distance to nearest point in discretization\n",
    "    xstar = x[d == np.min(d)] # get closest x\n",
    "    return F[x == xstar][0] # return F of closest x"
   ]
  },
  {
   "cell_type": "code",
   "execution_count": 61,
   "id": "87a9660e",
   "metadata": {},
   "outputs": [
    {
     "name": "stdout",
     "output_type": "stream",
     "text": [
      "For x = 0, mu = 0, and sigma^2 = 1, x bounds the lower 50.0 percent of the probability.\n"
     ]
    }
   ],
   "source": [
    "x, mu, sigma2 = 0, 0, 1\n",
    "print(\"For x = \" + str(x) + \", mu = \" + str(mu) + \", and sigma^2 = \" + str(sigma2) + \", \"\n",
    "       + \"x bounds the lower \" + str(np.round(100 * gcdf(x, mu, sigma2))) + \" percent of the probability.\")"
   ]
  }
 ],
 "metadata": {
  "kernelspec": {
   "display_name": "Python 3 (ipykernel)",
   "language": "python",
   "name": "python3"
  },
  "language_info": {
   "codemirror_mode": {
    "name": "ipython",
    "version": 3
   },
   "file_extension": ".py",
   "mimetype": "text/x-python",
   "name": "python",
   "nbconvert_exporter": "python",
   "pygments_lexer": "ipython3",
   "version": "3.8.8"
  }
 },
 "nbformat": 4,
 "nbformat_minor": 5
}
